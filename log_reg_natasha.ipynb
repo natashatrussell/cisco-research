{
 "cells": [
  {
   "cell_type": "code",
   "execution_count": 1,
   "metadata": {
    "collapsed": true
   },
   "outputs": [],
   "source": [
    "#read in csv file\n",
    "import csv\n",
    "#vectorizes data.csv\n",
    "from sklearn.feature_extraction.text import TfidfVectorizer\n",
    "#used for dataframes\n",
    "import pandas as pd\n",
    "#used for splitting\n",
    "from sklearn.model_selection import train_test_split\n",
    "#used to perform logistic regression\n",
    "from sklearn.linear_model import LogisticRegression\n",
    "#used for logistic regression metrics\n",
    "from sklearn.metrics import classification_report\n",
    "from sklearn import model_selection\n",
    "from sklearn.metrics import confusion_matrix\n",
    "from sklearn.model_selection import StratifiedKFold\n",
    "from sklearn.model_selection import cross_val_predict\n",
    "from sklearn import svm\n",
    "#used for the decision tree\n",
    "from sklearn import tree\n",
    "#graphics for decision tree\n",
    "#import graphviz \n",
    "#used for upsampling\n",
    "from sklearn.utils import resample"
   ]
  },
  {
   "cell_type": "markdown",
   "metadata": {},
   "source": [
    "# Read in .csv"
   ]
  },
  {
   "cell_type": "code",
   "execution_count": 2,
   "metadata": {
    "collapsed": true
   },
   "outputs": [],
   "source": [
    "df = pd.read_csv('UCSC Dataset 3 Final - Sheet1_clean.csv', encoding = 'utf-8')"
   ]
  },
  {
   "cell_type": "markdown",
   "metadata": {},
   "source": [
    "# Train/test split"
   ]
  },
  {
   "cell_type": "code",
   "execution_count": 26,
   "metadata": {},
   "outputs": [
    {
     "name": "stdout",
     "output_type": "stream",
     "text": [
      "180\n",
      "20\n"
     ]
    }
   ],
   "source": [
    "train, test = train_test_split(\n",
    "    df, test_size = 0.1, random_state = 0)\n",
    "print (len(train))\n",
    "print (len(test))"
   ]
  },
  {
   "cell_type": "markdown",
   "metadata": {},
   "source": [
    "# TF-IDF"
   ]
  },
  {
   "cell_type": "code",
   "execution_count": 28,
   "metadata": {
    "collapsed": true
   },
   "outputs": [],
   "source": [
    "vectorizer = TfidfVectorizer()\n",
    "train_tfs = vectorizer.fit_transform(train['original_post'])\n",
    "test_tfs = vectorizer.transform(test['original_post'])\n",
    "whole_tfs = vectorizer.fit_transform(df['original_post'])\n",
    "num_list_train = train['VPN #'].values\n",
    "num_list_test = test['VPN #'].values\n",
    "num_list_whole = df['VPN #'].values"
   ]
  },
  {
   "cell_type": "code",
   "execution_count": 29,
   "metadata": {},
   "outputs": [
    {
     "name": "stdout",
     "output_type": "stream",
     "text": [
      "(20, 3576)\n"
     ]
    }
   ],
   "source": [
    "print(test_tfs.shape)"
   ]
  },
  {
   "cell_type": "code",
   "execution_count": 30,
   "metadata": {},
   "outputs": [
    {
     "name": "stdout",
     "output_type": "stream",
     "text": [
      "(180, 3576)\n"
     ]
    }
   ],
   "source": [
    "print(train_tfs.shape)"
   ]
  },
  {
   "cell_type": "code",
   "execution_count": 31,
   "metadata": {},
   "outputs": [
    {
     "name": "stdout",
     "output_type": "stream",
     "text": [
      "   Unnamed: 0  Key  Year initiated  \\\n",
      "0           0  193            2016   \n",
      "1           1  197            2016   \n",
      "2           2  220            2016   \n",
      "3           3  294            2016   \n",
      "4           4  300            2016   \n",
      "\n",
      "                                       original_post  \\\n",
      "0  So 1 asa 5525 scenario current user authent us...   \n",
      "1  I multipl 70 site site exact lan 1921682024 ea...   \n",
      "2  Hi guy 3900 router current dmvpn router act hu...   \n",
      "3  Hi I recent receiv asa 5505 I spent week figur...   \n",
      "4  Hi I problem pppoe spoker network dmvpn the pr...   \n",
      "\n",
      "                                               title  \\\n",
      "0                              Multiple profiles ASA   \n",
      "1         DMVPN hub & multiple spokes w/ same subnet   \n",
      "2             DMVPN & HSEC license scalability query   \n",
      "3  ASA 5505 VPN Established, Cannot acces inside ...   \n",
      "4                                    PPPoe DMVPN mtu   \n",
      "\n",
      "                                                 url Solution Source  \\\n",
      "0  https://supportforums.cisco.com/discussion/130...           Cisco   \n",
      "1  https://supportforums.cisco.com/discussion/130...             VIP   \n",
      "2  https://supportforums.cisco.com/discussion/130...             VIP   \n",
      "3  https://supportforums.cisco.com/discussion/130...             VIP   \n",
      "4  https://supportforums.cisco.com/discussion/130...             VIP   \n",
      "\n",
      "  VPN Solution VPN Protocol Endpoints  \\\n",
      "0          NaN          NaN  ASA 5525   \n",
      "1        DMVPN          NaN       NaN   \n",
      "2        DMVPN        IPSEC    Router   \n",
      "3          NaN          NaN  ASA 5505   \n",
      "4        DMVPN          NaN       NaN   \n",
      "\n",
      "                            Olivia VPN Problem  \\\n",
      "0  Customer Education/Configuration Assistance   \n",
      "1  Customer Education/Configuration Assistance   \n",
      "2  Customer Education/Configuration Assistance   \n",
      "3                      VPN Feature Not Working   \n",
      "4                          VPN Tunnel Flapping   \n",
      "\n",
      "                              Ryan VPN Problem  \\\n",
      "0  Customer Education/Configuration Assistance   \n",
      "1  Customer Education/Configuration Assistance   \n",
      "2  Customer Education/Configuration Assistance   \n",
      "3                     VPN Tunnel Not Coming Up   \n",
      "4                          VPN Tunnel Flapping   \n",
      "\n",
      "                              Sean VPN Problem  \\\n",
      "0  Customer Education/Configuration Assistance   \n",
      "1  Customer Education/Configuration Assistance   \n",
      "2  Customer Education/Configuration Assistance   \n",
      "3                     VPN Tunnel Not Coming Up   \n",
      "4                          VPN Tunnel Flapping   \n",
      "\n",
      "                             Final VPN Problem  VPN #  \n",
      "0  Customer Education/Configuration Assistance      3  \n",
      "1  Customer Education/Configuration Assistance      3  \n",
      "2  Customer Education/Configuration Assistance      3  \n",
      "3                     VPN Tunnel Not Coming Up      0  \n",
      "4                          VPN Tunnel Flapping      1  \n"
     ]
    }
   ],
   "source": [
    "print df.head()"
   ]
  },
  {
   "cell_type": "code",
   "execution_count": 32,
   "metadata": {},
   "outputs": [
    {
     "name": "stdout",
     "output_type": "stream",
     "text": [
      "Index([        u'Unnamed: 0',                u'Key',     u'Year initiated',\n",
      "            u'original_post',              u'title',                u'url',\n",
      "          u'Solution Source',       u'VPN Solution',       u'VPN Protocol',\n",
      "                u'Endpoints', u'Olivia VPN Problem',   u'Ryan VPN Problem',\n",
      "         u'Sean VPN Problem',  u'Final VPN Problem',              u'VPN #'],\n",
      "      dtype='object')\n"
     ]
    }
   ],
   "source": [
    "print df.columns"
   ]
  },
  {
   "cell_type": "code",
   "execution_count": 33,
   "metadata": {},
   "outputs": [
    {
     "data": {
      "text/plain": [
       "LogisticRegression(C=1.0, class_weight='balanced', dual=False,\n",
       "          fit_intercept=True, intercept_scaling=1, max_iter=100,\n",
       "          multi_class='multinomial', n_jobs=1, penalty='l2',\n",
       "          random_state=None, solver='newton-cg', tol=0.0001, verbose=0,\n",
       "          warm_start=False)"
      ]
     },
     "execution_count": 33,
     "metadata": {},
     "output_type": "execute_result"
    }
   ],
   "source": [
    "logistic = LogisticRegression(solver = 'newton-cg', multi_class = 'multinomial', class_weight = 'balanced')\n",
    "logistic.fit(train_tfs,num_list_train)"
   ]
  },
  {
   "cell_type": "code",
   "execution_count": null,
   "metadata": {},
   "outputs": [],
   "source": []
  },
  {
   "cell_type": "code",
   "execution_count": null,
   "metadata": {
    "collapsed": true
   },
   "outputs": [],
   "source": []
  }
 ],
 "metadata": {
  "kernelspec": {
   "display_name": "Python 2",
   "language": "python",
   "name": "python2"
  },
  "language_info": {
   "codemirror_mode": {
    "name": "ipython",
    "version": 2
   },
   "file_extension": ".py",
   "mimetype": "text/x-python",
   "name": "python",
   "nbconvert_exporter": "python",
   "pygments_lexer": "ipython2",
   "version": "2.7.14"
  }
 },
 "nbformat": 4,
 "nbformat_minor": 2
}
